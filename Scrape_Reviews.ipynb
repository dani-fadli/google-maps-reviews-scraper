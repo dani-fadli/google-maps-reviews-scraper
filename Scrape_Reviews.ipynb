{
  "cells": [
    {
      "cell_type": "markdown",
      "metadata": {
        "id": "WsxnAeE4jRrC"
      },
      "source": [
        "# 1. Install Chrome Webdriver and dependencies in Colab"
      ]
    },
    {
      "cell_type": "code",
      "execution_count": null,
      "metadata": {
        "colab": {
          "base_uri": "https://localhost:8080/"
        },
        "collapsed": true,
        "id": "F54Zx4KRHMw5",
        "outputId": "2c077866-b5b0-407f-f85f-1014d4732b10"
      },
      "outputs": [],
      "source": [
        "!apt-get update\n",
        "!apt-get install -y chromium-chromedriver\n",
        "!cp /usr/lib/chromium-browser/chromedriver /usr/bin\n",
        "\n",
        "!pip install selenium pandas --quiet"
      ]
    },
    {
      "cell_type": "markdown",
      "metadata": {
        "id": "WgkZY_TbkK1M"
      },
      "source": [
        "# 2. Load dependencies"
      ]
    },
    {
      "cell_type": "code",
      "execution_count": null,
      "metadata": {
        "id": "QqTCQxcykRCE"
      },
      "outputs": [],
      "source": [
        "from selenium import webdriver\n",
        "from selenium.webdriver.chrome.options import Options\n",
        "from selenium.webdriver.common.by import By\n",
        "from selenium.webdriver.support.ui import WebDriverWait\n",
        "from selenium.webdriver.support import expected_conditions as EC\n",
        "from datetime import datetime\n",
        "import pandas as pd\n",
        "import time\n",
        "import re"
      ]
    },
    {
      "cell_type": "markdown",
      "metadata": {
        "id": "3lFQgOVulEOd"
      },
      "source": [
        "# 3. Initialize function for getting the place name"
      ]
    },
    {
      "cell_type": "code",
      "execution_count": null,
      "metadata": {
        "id": "nEswSx5olBdf"
      },
      "outputs": [],
      "source": [
        "def get_place_name_from_url(url):\n",
        "    match = re.search(r'/place/([^/]+)', url)\n",
        "    if match:\n",
        "        return match.group(1).replace('+', '_')\n",
        "    else:\n",
        "        return 'unknown_place'"
      ]
    },
    {
      "cell_type": "markdown",
      "metadata": {
        "id": "p1VSmddulY28"
      },
      "source": [
        "# 4. Initialize function for scraping reviews"
      ]
    },
    {
      "cell_type": "code",
      "execution_count": null,
      "metadata": {
        "id": "TT6bon-XlTa_"
      },
      "outputs": [],
      "source": [
        "def scrape_google_maps_reviews(place_url, max_wait=2):\n",
        "    # Set up Chrome options for headless operation in Colab\n",
        "    chrome_options = Options()\n",
        "    chrome_options.add_argument(\"--headless\")\n",
        "    chrome_options.add_argument(\"--no-sandbox\")\n",
        "    chrome_options.add_argument(\"--disable-dev-shm-usage\")\n",
        "    chrome_options.binary_location = \"/usr/bin/chromium-browser\"\n",
        "\n",
        "    driver = webdriver.Chrome(options=chrome_options)\n",
        "    driver.get(place_url)\n",
        "    time.sleep(5)  # Let the page load\n",
        "\n",
        "    # Pass Google consent page\n",
        "    if \"consent.google.com\" in driver.current_url or \"/consent\" in driver.current_url:\n",
        "      print(\"Trying to pass Google consent page\")\n",
        "      try:\n",
        "        WebDriverWait(driver, 20).until(EC.element_to_be_clickable((By.XPATH, \"//button[contains(@class, 'UywwFc-LgbsSe')]/span[text()='Terima semua']\"))).click()\n",
        "      except Exception:\n",
        "        print(driver.page_source)\n",
        "\n",
        "    # Wait for page to be ready\n",
        "    while driver.execute_script(\"return document.readyState\") != \"complete\":\n",
        "      time.sleep(1)\n",
        "\n",
        "    # Scroll to the reviews section (simulate click on 'All reviews' button if present)\n",
        "    try:\n",
        "        all_reviews_button = driver.find_element(By.XPATH, '//button[contains(@aria-label, \"Ulasan\")]')\n",
        "        all_reviews_button.click()\n",
        "        time.sleep(3)\n",
        "    except Exception:\n",
        "        pass  # Button not found, maybe already in reviews\n",
        "\n",
        "    # Wait for reviews container to load\n",
        "    time.sleep(3)\n",
        "\n",
        "    # Find the scrollable reviews container\n",
        "    try:\n",
        "        scrollable_div = driver.find_element(By.XPATH, '//div[@role=\"region\" and @tabindex=\"0\"]')\n",
        "    except Exception:\n",
        "        scrollable_div = driver.find_element(By.XPATH, '//div[contains(@class, \"m6QErb DxyBCb kA9KIf dS8AEf XiKgde \")]')\n",
        "\n",
        "    # Auto-scroll loop\n",
        "    last_height = driver.execute_script(\"return arguments[0].scrollHeight\", scrollable_div)\n",
        "\n",
        "    # Expand all truncated reviews by scrolling and clicking \"Lihat lainnya\"\n",
        "    last_review_count = 0\n",
        "    no_new_reviews_count = 0\n",
        "    max_no_new_reviews = 5 # Adjust this based on how many times you want to scroll without new reviews before stopping\n",
        "\n",
        "    while True:\n",
        "        # Scroll down to load more reviews\n",
        "        driver.execute_script(\"arguments[0].scrollTo(0, arguments[0].scrollHeight);\", scrollable_div)\n",
        "        time.sleep(max_wait) # Wait for content to load\n",
        "\n",
        "        # Click all \"Lihat lainnya\" buttons\n",
        "        more_buttons = driver.find_elements(By.XPATH, '//button[contains(@aria-label, \"Lihat lainnya\")]')\n",
        "        for btn in more_buttons:\n",
        "            try:\n",
        "                driver.execute_script(\"arguments[0].click();\", btn)\n",
        "                time.sleep(0.1) # Small delay after clicking\n",
        "            except Exception as e:\n",
        "                print(f\"Could not click a 'Lihat lainnya' button: {e}\")\n",
        "                continue\n",
        "\n",
        "        # Check if new reviews have loaded\n",
        "        current_review_count = len(driver.find_elements(By.XPATH, '//div[contains(@class, \"jJc9Ad \")]'))\n",
        "\n",
        "        if current_review_count == last_review_count:\n",
        "            no_new_reviews_count += 1\n",
        "            if no_new_reviews_count >= max_no_new_reviews:\n",
        "                print(f\"\\nNo new reviews loaded after {max_no_new_reviews} scrolls. Exiting review expansion loop.\")\n",
        "                break # Exit if no new reviews loaded after several scrolls\n",
        "        else:\n",
        "            last_review_count = current_review_count\n",
        "            no_new_reviews_count = 0 # Reset the counter if new reviews are found\n",
        "\n",
        "        print(f\"\\rCurrent review count: {current_review_count}\", end='', flush=True)\n",
        "\n",
        "    # Extract reviews and ratings\n",
        "    reviews = []\n",
        "    ratings = []\n",
        "    review_blocks = driver.find_elements(By.XPATH, '//div[contains(@class, \"jJc9Ad \")]')\n",
        "    for block in review_blocks:\n",
        "        try:\n",
        "            rating = block.find_element(By.XPATH, './/span[@role=\"img\"]').get_attribute(\"aria-label\")\n",
        "            rating_val = re.search(r'(\\d+)\\s+bintang', rating)\n",
        "\n",
        "            if rating_val:\n",
        "                rating_num = int(rating_val.group(1))\n",
        "            else:\n",
        "                rating_num = None\n",
        "        except Exception:\n",
        "            rating_num = None\n",
        "        try:\n",
        "            review_text = block.find_element(By.XPATH, './/span[contains(@class, \"wiI7pd\")]').text\n",
        "        except Exception:\n",
        "            review_text = \"\"\n",
        "\n",
        "        if review_text.strip():  # Only keep reviews with text\n",
        "            reviews.append(review_text.strip())\n",
        "            ratings.append(rating_num)\n",
        "\n",
        "    driver.quit()\n",
        "    print(f\"Found {len(reviews)} reviews\")\n",
        "    return pd.DataFrame({'rating': ratings, 'review': reviews})"
      ]
    },
    {
      "cell_type": "markdown",
      "metadata": {
        "id": "qZNR1-oQnUEi"
      },
      "source": [
        "# 5. Run scraping"
      ]
    },
    {
      "cell_type": "code",
      "execution_count": null,
      "metadata": {
        "colab": {
          "base_uri": "https://localhost:8080/"
        },
        "id": "gNSUwxzCF_Bh",
        "outputId": "734d51a1-a8d2-4ddc-8182-5a6f6a352533"
      },
      "outputs": [],
      "source": [
        "# List your Google Maps URLs here\n",
        "place_urls = [\n",
        "    \"https://www.google.com/maps/place/Curug+Cipanas/@-6.8018806,107.5891477,18z/data=!4m8!3m7!1s0x2e68e199627b9451:0xb0da93f3fa8cce42!8m2!3d-6.8018806!4d107.5915295!9m1!1b1!16s%2Fg%2F11fy4jg1lf?hl=id&entry=ttu&g_ep=EgoyMDI1MDYxMS4wIKXMDSoASAFQAw%3D%3D\",\n",
        "    \"https://www.google.com/maps/place/Curug+Maribaya/@-6.8301382,107.6523699,17z/data=!3m1!4b1!4m18!1m9!3m8!1s0x2e68e0a52b861003:0xa130fdfd96505b36!2sCurug+Maribaya!8m2!3d-6.8301382!4d107.6549448!9m1!1b1!16s%2Fg%2F1yg4dcvvc!3m7!1s0x2e68e0a52b861003:0xa130fdfd96505b36!8m2!3d-6.8301382!4d107.6549448!9m1!1b1!16s%2Fg%2F1yg4dcvvc?hl=id&entry=ttu&g_ep=EgoyMDI1MDYxMS4wIKXMDSoASAFQAw%3D%3D\",\n",
        "    \"https://www.google.com/maps/place/Curug+Cinulang/@-6.9628607,107.8789675,17z/data=!4m8!3m7!1s0x2e68cff4f238b30d:0xc78ed4f54010c569!8m2!3d-6.9628607!4d107.8815424!9m1!1b1!16s%2Fg%2F11b_2n9x7x?hl=id&entry=ttu&g_ep=EgoyMDI1MDYxMS4wIKXMDSoASAFQAw%3D%3D\",\n",
        "    \"https://www.google.com/maps/place/Curug+Tilu+Leuwi+Opat/@-6.7907749,107.5794346,17z/data=!4m8!3m7!1s0x2e68e18e83c36405:0x72275e219144f8f3!8m2!3d-6.7907749!4d107.5820095!9m1!1b1!16s%2Fg%2F11bw4wr_1j?hl=id&entry=ttu&g_ep=EgoyMDI1MDYxMS4wIKXMDSoASAFQAw%3D%3D\",\n",
        "    \"https://www.google.com/maps/place/Curug+Layung+%26+Camping+Ground/@-6.7768125,107.5752376,17z/data=!4m8!3m7!1s0x2e68e142f2d3bf0d:0x5765d9ceb0f35ae7!8m2!3d-6.7768125!4d107.5778125!9m1!1b1!16s%2Fg%2F11hs54sggh?hl=id&entry=ttu&g_ep=EgoyMDI1MDYxMS4wIKXMDSoASAFQAw%3D%3D\",\n",
        "    \"https://www.google.com/maps/place/Wisata+Air+Curug+Tilu+Rancabali/@-7.1497411,107.3733276,17z/data=!4m8!3m7!1s0x2e688b84894f55b7:0x1991b48c122c9e87!8m2!3d-7.1497411!4d107.3759025!9m1!1b1!16s%2Fg%2F11c2p7qrnk?hl=id&entry=ttu&g_ep=EgoyMDI1MDYxMS4wIKXMDSoASAFQAw%3D%3D\",\n",
        "    \"https://www.google.com/maps/place/Curug+Dago/@-6.8655225,107.6156129,17z/data=!4m8!3m7!1s0x2e68e6de2e06f0f1:0xe61f70cd002fbbb3!8m2!3d-6.8655225!4d107.6181878!9m1!1b1!16s%2Fg%2F122jdw0f?hl=id&entry=ttu&g_ep=EgoyMDI1MDYxMS4wIKXMDSoASAFQAw%3D%3D\",\n",
        "    \"https://www.google.com/maps/place/Curug+Malela/@-7.0182384,107.1969147,15z/data=!4m8!3m7!1s0x2e6859502d1faae5:0x637a7f90a74e56e2!8m2!3d-7.0182386!4d107.2072145!9m1!1b1!16s%2Fg%2F1pzvnk9v5?hl=id&entry=ttu&g_ep=EgoyMDI1MDYxMS4wIKXMDSoASAFQAw%3D%3D\",\n",
        "    \"https://www.google.com/maps/place/Curug+Pelangi/@-6.7987011,107.5734603,17z/data=!4m8!3m7!1s0x2e68e1f7e3b09c73:0xf289999555b21387!8m2!3d-6.7987011!4d107.5760352!9m1!1b1!16s%2Fg%2F11shns5ttw?hl=id&entry=ttu&g_ep=EgoyMDI1MDYxMS4wIKXMDSoASAFQAw%3D%3D\",\n",
        "    \"https://www.google.com/maps/place/Curug+Cilengkrang/@-6.8906021,107.7282513,17z/data=!4m8!3m7!1s0x2e68dcf100ccd99f:0x8566c419ce523b48!8m2!3d-6.8906021!4d107.7308262!9m1!1b1!16s%2Fg%2F11bx2hlg3n?hl=id&entry=ttu&g_ep=EgoyMDI1MDYxMS4wIKXMDSoASAFQAw%3D%3D\"\n",
        "]\n",
        "\n",
        "for url in place_urls:\n",
        "    print(f\"Processing: {url}\")\n",
        "    place_name = get_place_name_from_url(url)\n",
        "    timestamp = datetime.now().strftime(\"%Y%m%d_%H%M%S\")\n",
        "    df = scrape_google_maps_reviews(url)\n",
        "    filename = f\"{place_name}_reviews_{timestamp}.csv\"\n",
        "    df.to_csv(filename, index=False)\n",
        "    print(f\"Saved: {filename}\")\n",
        "\n",
        "print(\"DONE. Check the files in your Colab workspace.\")"
      ]
    }
  ],
  "metadata": {
    "accelerator": "GPU",
    "colab": {
      "gpuType": "T4",
      "provenance": []
    },
    "kernelspec": {
      "display_name": "Python 3",
      "name": "python3"
    },
    "language_info": {
      "name": "python"
    }
  },
  "nbformat": 4,
  "nbformat_minor": 0
}
