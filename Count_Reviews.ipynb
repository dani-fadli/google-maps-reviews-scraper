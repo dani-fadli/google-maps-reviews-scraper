{
  "cells": [
    {
      "cell_type": "markdown",
      "metadata": {
        "id": "xJ6CwdnE8Aoq"
      },
      "source": [
        "## Install Libraries"
      ]
    },
    {
      "cell_type": "code",
      "execution_count": null,
      "metadata": {
        "colab": {
          "base_uri": "https://localhost:8080/"
        },
        "collapsed": true,
        "id": "5vCZShbB3n1m",
        "outputId": "4e5e1b15-a868-48ec-aaf8-3e0815ac69b9"
      },
      "outputs": [],
      "source": [
        "!pip install selenium webdriver-manager beautifulsoup4 pandas openpyxl"
      ]
    },
    {
      "cell_type": "markdown",
      "metadata": {
        "id": "tNAsreUq8KkV"
      },
      "source": [
        "## Import Libraries and Install Chromium Browser"
      ]
    },
    {
      "cell_type": "code",
      "execution_count": null,
      "metadata": {
        "colab": {
          "base_uri": "https://localhost:8080/"
        },
        "id": "5o2Rb5163rmo",
        "outputId": "2428182a-788f-44a1-fb3c-9473e5a42c32"
      },
      "outputs": [],
      "source": [
        "# Import required libraries\n",
        "from selenium import webdriver\n",
        "from selenium.webdriver.chrome.service import Service\n",
        "from selenium.webdriver.chrome.options import Options\n",
        "from selenium.webdriver.common.by import By\n",
        "from selenium.webdriver.support.ui import WebDriverWait\n",
        "from selenium.webdriver.support import expected_conditions as EC\n",
        "from selenium.common.exceptions import TimeoutException, NoSuchElementException\n",
        "from webdriver_manager.chrome import ChromeDriverManager\n",
        "from bs4 import BeautifulSoup\n",
        "import time\n",
        "import pandas as pd\n",
        "import re\n",
        "\n",
        "# For Google Colab, we need to install Chrome\n",
        "!apt-get update\n",
        "!apt-get install -y chromium-browser\n",
        "!apt-get install -y chromium-chromedriver"
      ]
    },
    {
      "cell_type": "markdown",
      "metadata": {
        "id": "6gM1j54V8T7u"
      },
      "source": [
        "## Setup Driver Colab"
      ]
    },
    {
      "cell_type": "code",
      "execution_count": null,
      "metadata": {
        "id": "rcfrT-dB709j"
      },
      "outputs": [],
      "source": [
        "def setup_driver_colab():\n",
        "    \"\"\"Set up Chrome WebDriver specifically for Google Colab environment.\"\"\"\n",
        "    chrome_options = Options()\n",
        "    chrome_options.add_argument(\"--headless\")\n",
        "    chrome_options.add_argument(\"--no-sandbox\")\n",
        "    chrome_options.add_argument(\"--disable-dev-shm-usage\")\n",
        "    chrome_options.add_argument(\"--lang=id\")  # Set language to Indonesian\n",
        "\n",
        "    # In Colab, the ChromeDriver is already installed at this location\n",
        "    chrome_options.binary_location = '/usr/bin/chromium-browser'\n",
        "\n",
        "    # Initialize the Chrome driver\n",
        "    driver = webdriver.Chrome(options=chrome_options)\n",
        "    return driver"
      ]
    },
    {
      "cell_type": "markdown",
      "metadata": {
        "id": "DCFXjElh8WMg"
      },
      "source": [
        "## Extract Review Counts"
      ]
    },
    {
      "cell_type": "code",
      "execution_count": null,
      "metadata": {
        "id": "O9bmEheB735v"
      },
      "outputs": [],
      "source": [
        "def extract_review_counts(url):\n",
        "    \"\"\"Extract place names and their review counts from Google Maps search results.\"\"\"\n",
        "    driver = setup_driver_colab()\n",
        "\n",
        "    try:\n",
        "        # Open the URL\n",
        "        driver.get(url)\n",
        "        print(\"Navigating to URL...\")\n",
        "\n",
        "        # Wait for the results to load\n",
        "        wait = WebDriverWait(driver, 20)\n",
        "        wait.until(EC.presence_of_element_located((By.CSS_SELECTOR, \"div[role='feed']\")))\n",
        "\n",
        "        # Scroll to load more results\n",
        "        results_div = driver.find_element(By.CSS_SELECTOR, \"div[role='feed']\")\n",
        "\n",
        "        # Scroll down a few times to load more results\n",
        "        print(\"Scrolling to load more results...\")\n",
        "        for i in range(50):\n",
        "            driver.execute_script(\"arguments[0].scrollTop = arguments[0].scrollHeight\", results_div)\n",
        "            time.sleep(5)  # Give time for new content to load\n",
        "            print(f\"Scroll {i+1}/50 completed\")\n",
        "\n",
        "        # Get the page source after scrolling\n",
        "        page_source = driver.page_source\n",
        "        soup = BeautifulSoup(page_source, 'html.parser')\n",
        "\n",
        "        # Find all result items\n",
        "        results = []\n",
        "        items = soup.find_all('div', class_='Nv2PK')  # Main container for each listing\n",
        "\n",
        "        print(f\"Found {len(items)} places...\")\n",
        "\n",
        "        for item in items:\n",
        "            place_data = {}\n",
        "\n",
        "            # Extract place name\n",
        "            try:\n",
        "                name_element = item.find('div', class_='qBF1Pd')\n",
        "                if name_element:\n",
        "                    place_data['name'] = name_element.text.strip()\n",
        "                else:\n",
        "                    place_data['name'] = \"Name not found\"\n",
        "            except Exception as e:\n",
        "                place_data['name'] = f\"Error extracting name: {str(e)}\"\n",
        "\n",
        "            # Extract review count\n",
        "            try:\n",
        "                review_element = item.find('span', class_='UY7F9')\n",
        "                if review_element:\n",
        "                    review_text = review_element.text.strip()\n",
        "\n",
        "                    # In Indonesian format:\n",
        "                    # - 4,5 is a rating (uses comma as decimal separator)\n",
        "                    # - 1.234 is a review count (uses dot as thousands separator)\n",
        "\n",
        "                    # Check if this contains a rating (contains a comma)\n",
        "                    if ',' in review_text:\n",
        "                        # This is likely a rating followed by review count\n",
        "                        # Try to extract the review count which would be the number after the rating\n",
        "                        numbers = re.findall(r'\\d+(?:\\.\\d+)?', review_text)\n",
        "                        # The second number would be the review count\n",
        "                        place_data['reviews'] = int(numbers[1].replace('.', '')) if len(numbers) > 1 else 0\n",
        "                    else:\n",
        "                        # This is just a review count\n",
        "                        numbers = re.findall(r'\\d+(?:\\.\\d+)?', review_text)\n",
        "                        if numbers:\n",
        "                            # Remove dots from thousands separator and convert to int\n",
        "                            place_data['reviews'] = int(numbers[0].replace('.', ''))\n",
        "                        else:\n",
        "                            place_data['reviews'] = 0\n",
        "                else:\n",
        "                    place_data['reviews'] = 0  # No reviews found\n",
        "            except Exception as e:\n",
        "                place_data['reviews'] = f\"Error extracting reviews: {str(e)}\"\n",
        "\n",
        "            results.append(place_data)\n",
        "\n",
        "        return results\n",
        "\n",
        "    except Exception as e:\n",
        "        print(f\"An error occurred: {str(e)}\")\n",
        "        return []\n",
        "    finally:\n",
        "        driver.quit()"
      ]
    },
    {
      "cell_type": "markdown",
      "metadata": {
        "id": "n61SNyRk8Y--"
      },
      "source": [
        "## Run Script"
      ]
    },
    {
      "cell_type": "code",
      "execution_count": null,
      "metadata": {
        "colab": {
          "base_uri": "https://localhost:8080/",
          "height": 1000
        },
        "id": "ZSIGxbl776wK",
        "outputId": "4937b6a9-c486-46b6-99ab-4f31456986d4"
      },
      "outputs": [],
      "source": [
        "def main():\n",
        "    url = \"https://www.google.com/maps/search/air+terjun+di+bandung+raya/@-7.0019743,107.2272392,10z/data=!3m1!4b1?hl=id&entry=ttu&g_ep=EgoyMDI1MDYxMS4wIKXMDSoASAFQAw%3D%3D\"\n",
        "\n",
        "    print(\"Starting to extract review counts...\")\n",
        "    results = extract_review_counts(url)\n",
        "\n",
        "    if results:\n",
        "        # Create a dataframe and export to CSV\n",
        "        df = pd.DataFrame(results)\n",
        "        df.sort_values(by='reviews', ascending=False, inplace=True)\n",
        "\n",
        "        # Save files\n",
        "        csv_filename = 'google_maps_reviews.csv'\n",
        "        df.to_csv(csv_filename, index=False)\n",
        "\n",
        "        print(f\"\\nResults saved to {csv_filename}\")\n",
        "\n",
        "        # For Colab, display download links\n",
        "        from google.colab import files\n",
        "        files.download(csv_filename)\n",
        "\n",
        "        # Display the top 10 places by review count\n",
        "        print(\"\\nTop 10 Places by Review Count:\")\n",
        "        print(df.head(10).to_string(index=False))\n",
        "\n",
        "        # Calculate total reviews\n",
        "        total_reviews = df['reviews'].sum()\n",
        "        print(f\"\\nTotal Reviews Across All Places: {total_reviews}\")\n",
        "    else:\n",
        "        print(\"No results were found or an error occurred.\")\n",
        "\n",
        "# Run the script\n",
        "main()"
      ]
    }
  ],
  "metadata": {
    "colab": {
      "provenance": []
    },
    "kernelspec": {
      "display_name": "Python 3",
      "name": "python3"
    },
    "language_info": {
      "name": "python"
    }
  },
  "nbformat": 4,
  "nbformat_minor": 0
}
